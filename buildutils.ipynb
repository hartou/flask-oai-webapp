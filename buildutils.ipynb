{
 "cells": [
  {
   "cell_type": "code",
   "execution_count": 56,
   "metadata": {},
   "outputs": [],
   "source": [
    "question_1=\"how many tables\"\n",
    "response_1={\n",
    "    \"content\": \"<Cell>There are 10 tables in the database.</Cell>\\n>\\n\",\n",
    "    \"code_info\": None,\n",
    "    \"status_code\": 200\n",
    "}"
   ]
  },
  {
   "cell_type": "code",
   "execution_count": 57,
   "metadata": {},
   "outputs": [],
   "source": [
    "question_2 =\"how many inspections in Herndon?\"\n",
    "response_2 = {\n",
    "    \"content\": \"<Cell>\\n```tsql\\nSELECT COUNT(*) AS [Total Inspections]  \\nFROM [DIM_INSPECTIONS] AS DI  \\nINNER JOIN [DIM_ADDRESS] AS DA ON DI.[PERMIT_PER_KEY] = DA.[PERMIT_PER_KEY]  \\nWHERE DA.[B1_SITUS_CITY] = \\\"Herndon\\\";\\n```\\n\",\n",
    "    \"code_info\": {\n",
    "        \"code_id\": \"1\",\n",
    "        \"code_type\": \"tsql\",\n",
    "        \"code_block\": {\n",
    "            \"source\": \"SELECT COUNT(*) AS [Total Inspections]  \\nFROM [DIM_INSPECTIONS] AS DI  \\nINNER JOIN [DIM_ADDRESS] AS DA ON DI.[PERMIT_PER_KEY] = DA.[PERMIT_PER_KEY]  \\nWHERE DA.[B1_SITUS_CITY] = \\\"Herndon\\\";\\n\"\n",
    "        },\n",
    "        \"code_execute_result\": {\n",
    "            \"cost_ms\": 30070,\n",
    "            \"exception_message\": \"(\\\"HYT00\\\", \\\"[HYT00][Microsoft][ODBC Driver 18 for SQL Server] Login timeout expired (0) (SQLDriverConnect)\\\")\",\n",
    "            \"data\": None\n",
    "        }\n",
    "    },\n",
    "    \"status_code\": 200\n",
    "}"
   ]
  },
  {
   "cell_type": "code",
   "execution_count": 58,
   "metadata": {},
   "outputs": [],
   "source": [
    "\n",
    "\n",
    "import requests\n",
    "import json\n",
    "\n",
    "questions=[(question_1, response_1), (question_2, response_2)]\n",
    "\n",
    "def get_response(question):\n",
    "    for q, r in questions:\n",
    "        if q == question:\n",
    "            r['question'] = question\n",
    "            return r\n",
    "    return None\n"
   ]
  },
  {
   "cell_type": "code",
   "execution_count": 59,
   "metadata": {},
   "outputs": [],
   "source": [
    "def get_output(response):\n",
    "    output = {}\n",
    "    # print(response)\n",
    "    if response['status_code'] != 200:\n",
    "        print('Error: {}'.format(response))\n",
    "        output['txt'] = 'Error: {}'.format(response)\n",
    "        return output\n",
    "    \n",
    "    if response['status_code'] == 200:\n",
    "        if response['code_info'] == None:\n",
    "            output['message'] = response['content'].replace('<Cell>', '').replace('</Cell>', '').replace('>','')\n",
    "            return output\n",
    "        \n",
    "        if response['code_info'] != None:\n",
    "            if response['code_info']['code_execute_result']['data'] == None:\n",
    "                # tell user that there was an error and no data was returned\n",
    "                output['question'] = response['question']\n",
    "                output['message']='There was an error and no data was returned.'\n",
    "                output['sql']=response['code_info']['code_block']['source']\n",
    "                print(output.keys())\n",
    "                return output\n",
    "            \n",
    "    return None\n",
    "\n"
   ]
  },
  {
   "cell_type": "code",
   "execution_count": 60,
   "metadata": {},
   "outputs": [
    {
     "name": "stdout",
     "output_type": "stream",
     "text": [
      "dict_keys(['question', 'txt', 'sql'])\n",
      "{'question': 'how many inspections in Herndon?', 'txt': 'There was an error and no data was returned.', 'sql': 'SELECT COUNT(*) AS [Total Inspections]  \\nFROM [DIM_INSPECTIONS] AS DI  \\nINNER JOIN [DIM_ADDRESS] AS DA ON DI.[PERMIT_PER_KEY] = DA.[PERMIT_PER_KEY]  \\nWHERE DA.[B1_SITUS_CITY] = \"Herndon\";\\n'}\n"
     ]
    }
   ],
   "source": [
    "response = get_response(question_2)\n",
    "# print dict attributes\n",
    "# print(response.keys())\n",
    "# print(response)\n",
    "output = get_output(response)\n",
    "print(output)"
   ]
  }
 ],
 "metadata": {
  "kernelspec": {
   "display_name": "Python 3",
   "language": "python",
   "name": "python3"
  },
  "language_info": {
   "codemirror_mode": {
    "name": "ipython",
    "version": 3
   },
   "file_extension": ".py",
   "mimetype": "text/x-python",
   "name": "python",
   "nbconvert_exporter": "python",
   "pygments_lexer": "ipython3",
   "version": "3.11.9"
  }
 },
 "nbformat": 4,
 "nbformat_minor": 2
}
